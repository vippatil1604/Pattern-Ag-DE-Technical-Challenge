{
  "nbformat": 4,
  "nbformat_minor": 0,
  "metadata": {
    "colab": {
      "name": "Pattern Ag DE Technical Challenge.ipynb",
      "provenance": [],
      "collapsed_sections": []
    },
    "kernelspec": {
      "name": "python3",
      "display_name": "Python 3"
    },
    "language_info": {
      "name": "python"
    }
  },
  "cells": [
    {
      "cell_type": "code",
      "execution_count": 367,
      "metadata": {
        "id": "DjPvykLaVKsc"
      },
      "outputs": [],
      "source": [
        "import pandas as pd\n",
        "import requests\n"
      ]
    },
    {
      "cell_type": "code",
      "source": [
        "crop_csv = pd.read_csv('crop.csv')\n",
        "soil_csv = pd.read_csv('soil.csv')\n",
        "spectral_csv = pd.read_csv('spectral.csv')\n",
        "weather_csv = pd.read_csv('weather.csv')"
      ],
      "metadata": {
        "id": "wcIqhjqIWHjx"
      },
      "execution_count": 368,
      "outputs": []
    },
    {
      "cell_type": "code",
      "source": [
        "#challenge_1 \n",
        "\n",
        "crop_1 = crop_csv[crop_csv[\"year\"] == 2021]\n",
        "crop_2 = crop_1[[\"field_id\", \"field_geometry\", \"crop_type\"]]\n",
        "crop_2.to_csv('Transformed_crop.csv', index = False)"
      ],
      "metadata": {
        "id": "CFqBIRGCWNM0"
      },
      "execution_count": 369,
      "outputs": []
    },
    {
      "cell_type": "code",
      "source": [
        "#challenge_2\n",
        "\n",
        "spectral_csv['NDVI'] = (spectral_csv.nir - spectral_csv.red) / (spectral_csv.nir + spectral_csv.red)\n",
        "spectral_csv_2 = spectral_csv[spectral_csv.NDVI == spectral_csv.NDVI.max()]\n",
        "spectral_csv_2 = spectral_csv_2.rename(columns={\"NDVI\": \"pos\", \"date\": \"pos_date\"})\n",
        "spectral_csv_3 = spectral_csv_2[['tile_id', 'tile_geometry', 'pos', 'pos_date']]\n",
        "spectral_csv_3.to_csv('Transformed_spectral.csv', index = False)"
      ],
      "metadata": {
        "id": "xpkq5t0dWON9"
      },
      "execution_count": 370,
      "outputs": []
    },
    {
      "cell_type": "code",
      "source": [
        "#challenge_3\n",
        "\n",
        "soil_csv['avg_horizontal_layer'] = (abs(soil_csv.hzdept - soil_csv.hzdepb))/soil_csv.hzdepb\n",
        "\n",
        "soil_csv['avg_components_map_unit'] = (soil_csv.comppct *  soil_csv.avg_horizontal_layer)/ 100\n",
        "\n",
        "soil_csv_2 = soil_csv[['mukey', 'mukey_geometry', 'om', 'cec', 'ph', 'avg_horizontal_layer', 'avg_components_map_unit']]\n",
        "\n",
        "soil_csv_2.to_csv('Transformed_soil.csv', index = False)"
      ],
      "metadata": {
        "id": "JmRlU3G7hO9W"
      },
      "execution_count": 371,
      "outputs": []
    },
    {
      "cell_type": "code",
      "source": [
        "#challenge_4\n",
        "\n",
        "weather_csv_2 = weather_csv[(weather_csv[\"year\"] == 2021)]\n",
        "\n",
        "weather_csv_3 = weather_csv_2.groupby('fips_code').agg({'temp': ['mean', 'min', 'max', 'sum']})\n",
        "weather_csv_3.columns = weather_csv_3.columns.droplevel()\n",
        "cropped_crop_csv = crop_csv[['field_id', 'field_geometry']]\n",
        "cropped_crop_csv_2 = cropped_crop_csv.drop_duplicates(subset=['field_id'])\n",
        "cropped_crop_csv_3 = cropped_crop_csv_2['field_geometry'].str.split('MULTIPOLYGON', expand=True)\n",
        "\n",
        "splited_coordinates = [cropped_crop_csv_3[1].str.split(',', expand=True)]\n",
        "\n",
        "splited_coordinates = splited_coordinates[0][1]\n",
        "\n",
        "state = []\n",
        "county = []\n",
        "for i in splited_coordinates:\n",
        "  i = i.split(' ')\n",
        "  url = 'https://geo.fcc.gov/api/census/block/find?latitude=%s&longitude=%s&format=json' % (i[1],i[0])\n",
        "  response = requests.get(url)\n",
        "  data = response.json()\n",
        "  state.append(data['State']['FIPS'])\n",
        "  #county.append(data['County']['FIPS'][2:])\n",
        "  county.append(data['County']['FIPS'])\n",
        "  \n",
        "cropped_crop_csv_2['fips_code'] = county\n",
        "\n",
        "\n",
        "cropped_crop_csv_2['fips_code'] = cropped_crop_csv_2[\"fips_code\"].astype(int)\n",
        "\n",
        "cropped_crop_csv_4 = pd.merge(weather_csv_3, cropped_crop_csv_2, on=\"fips_code\")\n",
        "\n",
        "cropped_crop_csv_5 = cropped_crop_csv_4[['field_id','mean', 'min',\t'max',\t'sum']]\n",
        "cropped_crop_csv_5.to_csv('Transformed_weather.csv', index = False)"
      ],
      "metadata": {
        "colab": {
          "base_uri": "https://localhost:8080/"
        },
        "id": "yDtJU7pTwCIz",
        "outputId": "6dd74ca3-4f8c-4358-bc30-5ecc48c81548"
      },
      "execution_count": 372,
      "outputs": [
        {
          "output_type": "stream",
          "name": "stderr",
          "text": [
            "/usr/local/lib/python3.7/dist-packages/ipykernel_launcher.py:26: SettingWithCopyWarning: \n",
            "A value is trying to be set on a copy of a slice from a DataFrame.\n",
            "Try using .loc[row_indexer,col_indexer] = value instead\n",
            "\n",
            "See the caveats in the documentation: https://pandas.pydata.org/pandas-docs/stable/user_guide/indexing.html#returning-a-view-versus-a-copy\n",
            "/usr/local/lib/python3.7/dist-packages/ipykernel_launcher.py:29: SettingWithCopyWarning: \n",
            "A value is trying to be set on a copy of a slice from a DataFrame.\n",
            "Try using .loc[row_indexer,col_indexer] = value instead\n",
            "\n",
            "See the caveats in the documentation: https://pandas.pydata.org/pandas-docs/stable/user_guide/indexing.html#returning-a-view-versus-a-copy\n"
          ]
        }
      ]
    },
    {
      "cell_type": "code",
      "source": [
        ""
      ],
      "metadata": {
        "id": "ZtzsThLR6g6B"
      },
      "execution_count": 372,
      "outputs": []
    },
    {
      "cell_type": "code",
      "source": [
        ""
      ],
      "metadata": {
        "id": "16kmMn9aDzyA"
      },
      "execution_count": 372,
      "outputs": []
    },
    {
      "cell_type": "code",
      "source": [
        ""
      ],
      "metadata": {
        "id": "HURpYw3WDC-k"
      },
      "execution_count": 372,
      "outputs": []
    },
    {
      "cell_type": "code",
      "source": [
        ""
      ],
      "metadata": {
        "id": "kmSDDb3jmOPv"
      },
      "execution_count": 372,
      "outputs": []
    },
    {
      "cell_type": "code",
      "source": [
        ""
      ],
      "metadata": {
        "id": "GbfxFpNHycG8"
      },
      "execution_count": 372,
      "outputs": []
    },
    {
      "cell_type": "code",
      "source": [
        ""
      ],
      "metadata": {
        "id": "2L-MUjAu1ZdI"
      },
      "execution_count": 373,
      "outputs": []
    },
    {
      "cell_type": "code",
      "source": [
        ""
      ],
      "metadata": {
        "id": "9LUr1lquA7nV"
      },
      "execution_count": 373,
      "outputs": []
    }
  ]
}